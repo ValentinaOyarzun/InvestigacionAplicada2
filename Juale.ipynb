{
 "cells": [
  {
   "cell_type": "markdown",
   "metadata": {},
   "source": [
    "### Acetic Acid\n",
    "\n",
    "<table><tr><td>  <img src=\"https://upload.wikimedia.org/wikipedia/commons/thumb/7/74/Acetic-acid-CRC-GED-3D-balls-B.png/800px-Acetic-acid-CRC-GED-3D-balls-B.png\" style=\"width: 200px;\">  </td><td><img src=\"https://upload.wikimedia.org/wikipedia/commons/thumb/6/67/Acetic-acid-CRC-GED-3D-vdW-B.png/800px-Acetic-acid-CRC-GED-3D-vdW-B.png\" style=\"width: 200px;\" ></td></tr></table>\n"
   ]
  },
  {
   "cell_type": "code",
   "execution_count": 1,
   "metadata": {},
   "outputs": [],
   "source": [
    "import numpy as np\n",
    "import scipy\n",
    "pi=np.pi\n",
    "import os\n",
    "direct=os.getcwd()\n",
    "\n",
    "def LeerArchivo(filename):\n",
    "    file = open(filename, \"r\").read().split(\"\\n\")\n",
    "    datos=[]\n",
    "    for i in file:\n",
    "        datos.append(i.split())\n",
    "    return(datos)\n",
    "\n",
    "\n",
    "xyzr   = LeerArchivo(\"acetic-acid_xyzr.txt\")\n",
    "face   = LeerArchivo(\"acetic_acid_msms_face.txt\")\n",
    "vert   = LeerArchivo(\"acetic_acid_msms_vert.txt\")\n",
    "areas  = LeerArchivo(\"triangleAreas.txt\")\n",
    "\n",
    "# xyzr ########### Posicion atomos (x,y,z,r)\n",
    "for j in range(len(xyzr)):\n",
    "    xyzr[j] = [float(i) for i in xyzr[j]]\n",
    "    \n",
    "# face ########### Triangulos\n",
    "for j in range(len(face)):\n",
    "    del face[j][-2:]\n",
    "    face[j] = [int(i) for i in face[j]]\n",
    "    \n",
    "# vert ########### Vertices\n",
    "for j in range(len(vert)):\n",
    "    del vert[j][-6:]\n",
    "    vert[j] = [float(i) for i in vert[j]]\n",
    "    \n",
    "# areas ########## Areas\n",
    "u = []\n",
    "for j in range(len(areas)):\n",
    "    areas[j] = [float(i) for i in areas[j]]\n",
    "    u.extend(areas[j])\n",
    "areas = u"
   ]
  },
  {
   "cell_type": "code",
   "execution_count": 2,
   "metadata": {},
   "outputs": [],
   "source": [
    "def dist3d(a,b):\n",
    "    return ((b[0] - a[0])**2 + (b[1] - a[1])**2 + (b[2] - a[2])**2)**0.5\n",
    "    \n",
    "def areatriangle3d(aa, bb, cc):  \n",
    "    a=dist3d(aa, bb)  \n",
    "    b=dist3d(bb, cc)  \n",
    "    c=dist3d(cc, aa) \n",
    "    s = (a + b + c) / 2 \n",
    "    area = (s*(s-a) * (s-b)*(s-c)) ** 0.5\n",
    "    return area"
   ]
  },
  {
   "cell_type": "code",
   "execution_count": null,
   "metadata": {},
   "outputs": [],
   "source": [
    "trig_n = 0   # Area de triángulo numero..\n",
    "#######################################################\n",
    "x, y, z = face[trig_n]\n",
    "print(\"Triangulo \", trig_n, \"\\n\", [x-1, y-1, z-1])\n",
    "print(\" Nodo\", x-1, vert[x-1],\"\\n\", \"Nodo\", y-1, vert[y-1],\"\\n\",\"Nodo\", z-1, vert[z-1])\n",
    "print(\"Area: \", areatriangle3d(vert[x-1], vert[y-1] , vert[z-1]))"
   ]
  },
  {
   "cell_type": "markdown",
   "metadata": {},
   "source": [
    "### Función 'triángulos'\n",
    "Dado un atomo, la función entrega tres resultados distintos (u, k, SA)\n",
    "#### u: vertices\n",
    "> Entrega los índices correspondientes a los vértices que estan asociados al átomo. Estos vértices estan a una distancia del centro del átomo igual al radio del átomo (con error del 1%).\n",
    "#### k: triángulos\n",
    "> Entrega los índices correspondientes a los triángulos cuyos vértices se encuentran dentro de la lista *u*. Además, para cada triángulo se incluye los índices de los vértices que lo definen.\n",
    "#### SA: área superficial\n",
    "> Area superficial total de los triángulos asociados al átomo."
   ]
  },
  {
   "cell_type": "code",
   "execution_count": 3,
   "metadata": {},
   "outputs": [],
   "source": [
    "def triangulos(atomo, vert, face):\n",
    "    u = []\n",
    "    k = []\n",
    "    SA = 0\n",
    "    R = atomo[-1]\n",
    "       \n",
    "    for i in range(len(vert)):\n",
    "        dist = dist3d(vert[i], atomo)\n",
    "        if R >= dist*(0.99) and R <= dist*(1.01):\n",
    "            u.append(i)\n",
    "            \n",
    "    for j in range(len(face)):\n",
    "        a, b, c = face[j]\n",
    "        if a-1 in u and b-1 in u and c-1 in u:\n",
    "            k.append([j, [a-1, b-1, c-1]])\n",
    "            \n",
    "    for t in range(len(k)):\n",
    "        X, Y, Z = k[t][1]\n",
    "        x, y, z = vert[X], vert[Y], vert[Z]\n",
    "        SA = SA + areatriangle3d(x, y, z)\n",
    "        \n",
    "    return u, k, SA"
   ]
  },
  {
   "cell_type": "code",
   "execution_count": null,
   "metadata": {
    "scrolled": true
   },
   "outputs": [],
   "source": [
    "###### Vertices, Triangulos, Superficies correspondientes a un atomo ########\n",
    "atomo = 0\n",
    "\n",
    "vertices, trig, SA_tot = triangulos(xyzr[atomo], vert, face)\n",
    "\n",
    "print(\"Existen\",len(vertices), \"vertices asociadas al atomo, con 1 radio de distancia del centro del atomo (error 1%).\", \"\\n\")\n",
    "\n",
    "print(\"Indices de los vertices: \", vertices, \"\\n\")\n",
    "print(\"Indice de triangulos y sus vertices:\")\n",
    "print(*trig, sep = \"\\n\")\n",
    "\n",
    "print(\"Area superficial total asociada al atomo\", SA_tot)"
   ]
  },
  {
   "cell_type": "code",
   "execution_count": 4,
   "metadata": {},
   "outputs": [
    {
     "name": "stdout",
     "output_type": "stream",
     "text": [
      "12.033754670854016\n",
      "6.573176865823318\n",
      "2.686193449786292\n",
      "3.1209489999066586\n",
      "3.1209489999066578\n",
      "10.291254916925862\n",
      "6.358182687059951\n",
      "4.669289922927863\n"
     ]
    }
   ],
   "source": [
    "####### Superficies #######\n",
    "surf = []\n",
    "for i in range(len(xyzr)):\n",
    "    u, k, SA = triangulos(xyzr[i], vert, face)\n",
    "    surf.append(SA)\n",
    "    \n",
    "print(*surf, sep = \"\\n\")"
   ]
  },
  {
   "cell_type": "code",
   "execution_count": null,
   "metadata": {},
   "outputs": [],
   "source": []
  }
 ],
 "metadata": {
  "kernelspec": {
   "display_name": "Python 3",
   "language": "python",
   "name": "python3"
  },
  "language_info": {
   "codemirror_mode": {
    "name": "ipython",
    "version": 3
   },
   "file_extension": ".py",
   "mimetype": "text/x-python",
   "name": "python",
   "nbconvert_exporter": "python",
   "pygments_lexer": "ipython3",
   "version": "3.6.5"
  }
 },
 "nbformat": 4,
 "nbformat_minor": 2
}
